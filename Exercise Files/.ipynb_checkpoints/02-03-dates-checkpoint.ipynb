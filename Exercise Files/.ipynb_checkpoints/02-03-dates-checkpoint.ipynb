{
 "cells": [
  {
   "cell_type": "markdown",
   "metadata": {
    "id": "DVjAHTI3N1iA"
   },
   "source": [
    "<img src=\"https://pandas.pydata.org/static/img/pandas.svg\" width=\"250\">\n",
    "\n",
    "## <center> Working with dates"
   ]
  },
  {
   "cell_type": "code",
   "execution_count": 1,
   "metadata": {
    "executionInfo": {
     "elapsed": 321,
     "status": "ok",
     "timestamp": 1605068643776,
     "user": {
      "displayName": "Brett Vanderblock",
      "photoUrl": "https://lh3.googleusercontent.com/a-/AOh14GhmgXUM06I_0Utz7PNi8ns4XuV5Uba2Tr63jSQX=s64",
      "userId": "08986418591522242227"
     },
     "user_tz": 480
    },
    "id": "-8EcnncAN1iC"
   },
   "outputs": [],
   "source": [
    "import pandas as pd"
   ]
  },
  {
   "cell_type": "markdown",
   "metadata": {
    "id": "QzFoklfuN1iM"
   },
   "source": [
    "###Generate series of dates with `period_range`"
   ]
  },
  {
   "cell_type": "code",
   "execution_count": 2,
   "metadata": {
    "executionInfo": {
     "elapsed": 239,
     "status": "ok",
     "timestamp": 1605068645859,
     "user": {
      "displayName": "Brett Vanderblock",
      "photoUrl": "https://lh3.googleusercontent.com/a-/AOh14GhmgXUM06I_0Utz7PNi8ns4XuV5Uba2Tr63jSQX=s64",
      "userId": "08986418591522242227"
     },
     "user_tz": 480
    },
    "id": "-Jx5NztjN1iN"
   },
   "outputs": [],
   "source": [
    "daterange = pd.period_range('1/1/2020', freq='30d', periods=4)"
   ]
  },
  {
   "cell_type": "code",
   "execution_count": 3,
   "metadata": {
    "colab": {
     "base_uri": "https://localhost:8080/",
     "height": 172
    },
    "executionInfo": {
     "elapsed": 281,
     "status": "ok",
     "timestamp": 1605068647708,
     "user": {
      "displayName": "Brett Vanderblock",
      "photoUrl": "https://lh3.googleusercontent.com/a-/AOh14GhmgXUM06I_0Utz7PNi8ns4XuV5Uba2Tr63jSQX=s64",
      "userId": "08986418591522242227"
     },
     "user_tz": 480
    },
    "id": "bdTfv9zPYkSh",
    "outputId": "665e5413-bf14-4be9-8212-08206e7a77fd"
   },
   "outputs": [
    {
     "data": {
      "text/html": [
       "<div>\n",
       "<style scoped>\n",
       "    .dataframe tbody tr th:only-of-type {\n",
       "        vertical-align: middle;\n",
       "    }\n",
       "\n",
       "    .dataframe tbody tr th {\n",
       "        vertical-align: top;\n",
       "    }\n",
       "\n",
       "    .dataframe thead th {\n",
       "        text-align: right;\n",
       "    }\n",
       "</style>\n",
       "<table border=\"1\" class=\"dataframe\">\n",
       "  <thead>\n",
       "    <tr style=\"text-align: right;\">\n",
       "      <th></th>\n",
       "      <th>sample date</th>\n",
       "    </tr>\n",
       "  </thead>\n",
       "  <tbody>\n",
       "    <tr>\n",
       "      <th>0</th>\n",
       "      <td>2020-01-01</td>\n",
       "    </tr>\n",
       "    <tr>\n",
       "      <th>1</th>\n",
       "      <td>2020-01-31</td>\n",
       "    </tr>\n",
       "    <tr>\n",
       "      <th>2</th>\n",
       "      <td>2020-03-01</td>\n",
       "    </tr>\n",
       "    <tr>\n",
       "      <th>3</th>\n",
       "      <td>2020-03-31</td>\n",
       "    </tr>\n",
       "  </tbody>\n",
       "</table>\n",
       "</div>"
      ],
      "text/plain": [
       "  sample date\n",
       "0  2020-01-01\n",
       "1  2020-01-31\n",
       "2  2020-03-01\n",
       "3  2020-03-31"
      ]
     },
     "execution_count": 3,
     "metadata": {},
     "output_type": "execute_result"
    }
   ],
   "source": [
    "date_df = pd.DataFrame(data=daterange,columns=['sample date'])\n",
    "date_df"
   ]
  },
  {
   "cell_type": "markdown",
   "metadata": {
    "id": "K7Uvlr8cN1ib"
   },
   "source": [
    "### Date difference from prior date using `diff`"
   ]
  },
  {
   "cell_type": "code",
   "execution_count": 4,
   "metadata": {
    "colab": {
     "base_uri": "https://localhost:8080/",
     "height": 172
    },
    "executionInfo": {
     "elapsed": 272,
     "status": "ok",
     "timestamp": 1605068725806,
     "user": {
      "displayName": "Brett Vanderblock",
      "photoUrl": "https://lh3.googleusercontent.com/a-/AOh14GhmgXUM06I_0Utz7PNi8ns4XuV5Uba2Tr63jSQX=s64",
      "userId": "08986418591522242227"
     },
     "user_tz": 480
    },
    "id": "c4LPuq2rN1id",
    "outputId": "d4f66942-d121-4575-8906-f34d35e69224"
   },
   "outputs": [
    {
     "data": {
      "text/html": [
       "<div>\n",
       "<style scoped>\n",
       "    .dataframe tbody tr th:only-of-type {\n",
       "        vertical-align: middle;\n",
       "    }\n",
       "\n",
       "    .dataframe tbody tr th {\n",
       "        vertical-align: top;\n",
       "    }\n",
       "\n",
       "    .dataframe thead th {\n",
       "        text-align: right;\n",
       "    }\n",
       "</style>\n",
       "<table border=\"1\" class=\"dataframe\">\n",
       "  <thead>\n",
       "    <tr style=\"text-align: right;\">\n",
       "      <th></th>\n",
       "      <th>sample date</th>\n",
       "      <th>date difference</th>\n",
       "    </tr>\n",
       "  </thead>\n",
       "  <tbody>\n",
       "    <tr>\n",
       "      <th>0</th>\n",
       "      <td>2020-01-01</td>\n",
       "      <td>NaT</td>\n",
       "    </tr>\n",
       "    <tr>\n",
       "      <th>1</th>\n",
       "      <td>2020-01-31</td>\n",
       "      <td>&lt;30 * Days&gt;</td>\n",
       "    </tr>\n",
       "    <tr>\n",
       "      <th>2</th>\n",
       "      <td>2020-03-01</td>\n",
       "      <td>&lt;30 * Days&gt;</td>\n",
       "    </tr>\n",
       "    <tr>\n",
       "      <th>3</th>\n",
       "      <td>2020-03-31</td>\n",
       "      <td>&lt;30 * Days&gt;</td>\n",
       "    </tr>\n",
       "  </tbody>\n",
       "</table>\n",
       "</div>"
      ],
      "text/plain": [
       "  sample date date difference\n",
       "0  2020-01-01             NaT\n",
       "1  2020-01-31     <30 * Days>\n",
       "2  2020-03-01     <30 * Days>\n",
       "3  2020-03-31     <30 * Days>"
      ]
     },
     "execution_count": 4,
     "metadata": {},
     "output_type": "execute_result"
    }
   ],
   "source": [
    "date_df['date difference'] = date_df['sample date'].diff(periods=1)\n",
    "date_df"
   ]
  },
  {
   "cell_type": "markdown",
   "metadata": {
    "id": "IV1fPHtjN1ii"
   },
   "source": [
    "### Find the first day of the month"
   ]
  },
  {
   "cell_type": "code",
   "execution_count": 6,
   "metadata": {
    "colab": {
     "base_uri": "https://localhost:8080/",
     "height": 172
    },
    "executionInfo": {
     "elapsed": 200,
     "status": "ok",
     "timestamp": 1605068830205,
     "user": {
      "displayName": "Brett Vanderblock",
      "photoUrl": "https://lh3.googleusercontent.com/a-/AOh14GhmgXUM06I_0Utz7PNi8ns4XuV5Uba2Tr63jSQX=s64",
      "userId": "08986418591522242227"
     },
     "user_tz": 480
    },
    "id": "JnaHMJqTN1ij",
    "outputId": "96d296cd-ec23-4984-f1eb-1ee03535015d"
   },
   "outputs": [
    {
     "data": {
      "text/html": [
       "<div>\n",
       "<style scoped>\n",
       "    .dataframe tbody tr th:only-of-type {\n",
       "        vertical-align: middle;\n",
       "    }\n",
       "\n",
       "    .dataframe tbody tr th {\n",
       "        vertical-align: top;\n",
       "    }\n",
       "\n",
       "    .dataframe thead th {\n",
       "        text-align: right;\n",
       "    }\n",
       "</style>\n",
       "<table border=\"1\" class=\"dataframe\">\n",
       "  <thead>\n",
       "    <tr style=\"text-align: right;\">\n",
       "      <th></th>\n",
       "      <th>sample date</th>\n",
       "      <th>date difference</th>\n",
       "      <th>first of month</th>\n",
       "    </tr>\n",
       "  </thead>\n",
       "  <tbody>\n",
       "    <tr>\n",
       "      <th>0</th>\n",
       "      <td>2020-01-01</td>\n",
       "      <td>NaT</td>\n",
       "      <td>2020-01-01</td>\n",
       "    </tr>\n",
       "    <tr>\n",
       "      <th>1</th>\n",
       "      <td>2020-01-31</td>\n",
       "      <td>&lt;30 * Days&gt;</td>\n",
       "      <td>2020-01-01</td>\n",
       "    </tr>\n",
       "    <tr>\n",
       "      <th>2</th>\n",
       "      <td>2020-03-01</td>\n",
       "      <td>&lt;30 * Days&gt;</td>\n",
       "      <td>2020-03-01</td>\n",
       "    </tr>\n",
       "    <tr>\n",
       "      <th>3</th>\n",
       "      <td>2020-03-31</td>\n",
       "      <td>&lt;30 * Days&gt;</td>\n",
       "      <td>2020-03-01</td>\n",
       "    </tr>\n",
       "  </tbody>\n",
       "</table>\n",
       "</div>"
      ],
      "text/plain": [
       "  sample date date difference first of month\n",
       "0  2020-01-01             NaT     2020-01-01\n",
       "1  2020-01-31     <30 * Days>     2020-01-01\n",
       "2  2020-03-01     <30 * Days>     2020-03-01\n",
       "3  2020-03-31     <30 * Days>     2020-03-01"
      ]
     },
     "execution_count": 6,
     "metadata": {},
     "output_type": "execute_result"
    }
   ],
   "source": [
    "date_df['first of month'] = date_df['sample date'].values.astype('datetime64[M]')\n",
    "date_df\n",
    "# datetime64[M] is the first day of the month"
   ]
  },
  {
   "cell_type": "markdown",
   "metadata": {
    "id": "T1VVPCQTN1iw"
   },
   "source": [
    "### Date types"
   ]
  },
  {
   "cell_type": "code",
   "execution_count": 7,
   "metadata": {
    "colab": {
     "base_uri": "https://localhost:8080/"
    },
    "executionInfo": {
     "elapsed": 203,
     "status": "ok",
     "timestamp": 1605068853544,
     "user": {
      "displayName": "Brett Vanderblock",
      "photoUrl": "https://lh3.googleusercontent.com/a-/AOh14GhmgXUM06I_0Utz7PNi8ns4XuV5Uba2Tr63jSQX=s64",
      "userId": "08986418591522242227"
     },
     "user_tz": 480
    },
    "id": "rPsUtgjpN1iq",
    "outputId": "d52daf4e-6e58-485a-a2ed-7423f4297700"
   },
   "outputs": [
    {
     "data": {
      "text/plain": [
       "sample date           period[30D]\n",
       "date difference            object\n",
       "first of month     datetime64[ns]\n",
       "dtype: object"
      ]
     },
     "execution_count": 7,
     "metadata": {},
     "output_type": "execute_result"
    }
   ],
   "source": [
    "date_df.dtypes"
   ]
  },
  {
   "cell_type": "code",
   "execution_count": 8,
   "metadata": {
    "colab": {
     "base_uri": "https://localhost:8080/"
    },
    "executionInfo": {
     "elapsed": 191,
     "status": "ok",
     "timestamp": 1605068888210,
     "user": {
      "displayName": "Brett Vanderblock",
      "photoUrl": "https://lh3.googleusercontent.com/a-/AOh14GhmgXUM06I_0Utz7PNi8ns4XuV5Uba2Tr63jSQX=s64",
      "userId": "08986418591522242227"
     },
     "user_tz": 480
    },
    "id": "xLRWdTeSN1ix",
    "outputId": "ad564e98-6d87-4e35-cae8-2e1a8ce8b90b"
   },
   "outputs": [
    {
     "data": {
      "text/plain": [
       "sample date        datetime64[ns]\n",
       "date difference            object\n",
       "first of month     datetime64[ns]\n",
       "dtype: object"
      ]
     },
     "execution_count": 8,
     "metadata": {},
     "output_type": "execute_result"
    }
   ],
   "source": [
    "date_df['sample date'] = date_df['sample date'].dt.to_timestamp()\n",
    "date_df.dtypes"
   ]
  },
  {
   "cell_type": "markdown",
   "metadata": {
    "id": "Ye7c-7JhkZfH"
   },
   "source": [
    "### Date Subtraction"
   ]
  },
  {
   "cell_type": "code",
   "execution_count": 9,
   "metadata": {
    "colab": {
     "base_uri": "https://localhost:8080/"
    },
    "executionInfo": {
     "elapsed": 269,
     "status": "ok",
     "timestamp": 1605068920305,
     "user": {
      "displayName": "Brett Vanderblock",
      "photoUrl": "https://lh3.googleusercontent.com/a-/AOh14GhmgXUM06I_0Utz7PNi8ns4XuV5Uba2Tr63jSQX=s64",
      "userId": "08986418591522242227"
     },
     "user_tz": 480
    },
    "id": "8QY1VHhZllOX",
    "outputId": "99357baf-4040-4f1f-d62b-03491c50af09"
   },
   "outputs": [
    {
     "data": {
      "text/plain": [
       "0    0 days\n",
       "1   30 days\n",
       "2    0 days\n",
       "3   30 days\n",
       "dtype: timedelta64[ns]"
      ]
     },
     "execution_count": 9,
     "metadata": {},
     "output_type": "execute_result"
    }
   ],
   "source": [
    "date_df['sample date'] - date_df['first of month']"
   ]
  },
  {
   "cell_type": "code",
   "execution_count": 12,
   "metadata": {
    "colab": {
     "base_uri": "https://localhost:8080/"
    },
    "executionInfo": {
     "elapsed": 286,
     "status": "ok",
     "timestamp": 1605068943457,
     "user": {
      "displayName": "Brett Vanderblock",
      "photoUrl": "https://lh3.googleusercontent.com/a-/AOh14GhmgXUM06I_0Utz7PNi8ns4XuV5Uba2Tr63jSQX=s64",
      "userId": "08986418591522242227"
     },
     "user_tz": 480
    },
    "id": "VQMwFrHwN1i3",
    "outputId": "872b9e58-713b-486b-944d-bfca76087b9b"
   },
   "outputs": [],
   "source": [
    "# date_df['date difference'] = date_df['date difference'].dt.to_timestamp()\n",
    "# date_df['sample date'] - date_df['date difference']"
   ]
  },
  {
   "cell_type": "code",
   "execution_count": 13,
   "metadata": {
    "colab": {
     "base_uri": "https://localhost:8080/"
    },
    "executionInfo": {
     "elapsed": 224,
     "status": "ok",
     "timestamp": 1605068987553,
     "user": {
      "displayName": "Brett Vanderblock",
      "photoUrl": "https://lh3.googleusercontent.com/a-/AOh14GhmgXUM06I_0Utz7PNi8ns4XuV5Uba2Tr63jSQX=s64",
      "userId": "08986418591522242227"
     },
     "user_tz": 480
    },
    "id": "xtkbSN48N1jD",
    "outputId": "a65c0b5a-fe85-4cbc-f963-e6d4084144b0"
   },
   "outputs": [
    {
     "data": {
      "text/plain": [
       "0   2019-12-02\n",
       "1   2020-01-01\n",
       "2   2020-01-31\n",
       "3   2020-03-01\n",
       "Name: sample date, dtype: datetime64[ns]"
      ]
     },
     "execution_count": 13,
     "metadata": {},
     "output_type": "execute_result"
    }
   ],
   "source": [
    "date_df['sample date'] - pd.Timedelta('30 d')"
   ]
  },
  {
   "cell_type": "markdown",
   "metadata": {
    "id": "rD-f2o6ekkC2"
   },
   "source": [
    "### More datetime properties with `dt`"
   ]
  },
  {
   "cell_type": "code",
   "execution_count": 14,
   "metadata": {
    "colab": {
     "base_uri": "https://localhost:8080/"
    },
    "executionInfo": {
     "elapsed": 242,
     "status": "ok",
     "timestamp": 1605069025656,
     "user": {
      "displayName": "Brett Vanderblock",
      "photoUrl": "https://lh3.googleusercontent.com/a-/AOh14GhmgXUM06I_0Utz7PNi8ns4XuV5Uba2Tr63jSQX=s64",
      "userId": "08986418591522242227"
     },
     "user_tz": 480
    },
    "id": "s0pCsBOSN1i9",
    "outputId": "a2ba1caf-f2b7-48bf-cfc1-67290cd539e7"
   },
   "outputs": [
    {
     "data": {
      "text/plain": [
       "0    Wednesday\n",
       "1       Friday\n",
       "2       Sunday\n",
       "3      Tuesday\n",
       "Name: sample date, dtype: object"
      ]
     },
     "execution_count": 14,
     "metadata": {},
     "output_type": "execute_result"
    }
   ],
   "source": [
    "date_df['sample date'].dt.day_name()"
   ]
  },
  {
   "cell_type": "code",
   "execution_count": null,
   "metadata": {
    "id": "QvdmFKjtkbA0"
   },
   "outputs": [],
   "source": []
  }
 ],
 "metadata": {
  "colab": {
   "collapsed_sections": [],
   "name": "02-03-dates.ipynb",
   "provenance": []
  },
  "kernelspec": {
   "display_name": "Python 3 (ipykernel)",
   "language": "python",
   "name": "python3"
  },
  "language_info": {
   "codemirror_mode": {
    "name": "ipython",
    "version": 3
   },
   "file_extension": ".py",
   "mimetype": "text/x-python",
   "name": "python",
   "nbconvert_exporter": "python",
   "pygments_lexer": "ipython3",
   "version": "3.9.7"
  }
 },
 "nbformat": 4,
 "nbformat_minor": 1
}
